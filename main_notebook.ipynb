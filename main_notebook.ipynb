{
 "cells": [
  {
   "cell_type": "markdown",
   "metadata": {},
   "source": [
    "# Extraction de données"
   ]
  },
  {
   "cell_type": "code",
   "execution_count": 32,
   "metadata": {},
   "outputs": [],
   "source": [
    "import requests\n",
    "from bs4 import BeautifulSoup\n",
    "import pandas as pd"
   ]
  },
  {
   "cell_type": "markdown",
   "metadata": {},
   "source": [
    "## Cas Pratique 1"
   ]
  },
  {
   "cell_type": "markdown",
   "metadata": {},
   "source": [
    "### Chargement des données"
   ]
  },
  {
   "cell_type": "code",
   "execution_count": 33,
   "metadata": {},
   "outputs": [],
   "source": [
    "url = \"https://www.basketball-reference.com/leagues/NBA_2022_per_game.html\""
   ]
  },
  {
   "cell_type": "code",
   "execution_count": 34,
   "metadata": {},
   "outputs": [],
   "source": [
    "response = requests.get(url)\n",
    "soup = BeautifulSoup(response.text, \"html.parser\")\n",
    "\n",
    "table = soup.find(\"table\", {\"id\": \"per_game_stats\"})"
   ]
  },
  {
   "cell_type": "code",
   "execution_count": 35,
   "metadata": {},
   "outputs": [],
   "source": [
    "headers = [th.text for th in table.find(\"thead\").find_all(\"th\")][1:]  # Exclure la première cellule vide"
   ]
  },
  {
   "cell_type": "markdown",
   "metadata": {},
   "source": [
    "### Extraction des données"
   ]
  },
  {
   "cell_type": "code",
   "execution_count": 36,
   "metadata": {},
   "outputs": [],
   "source": [
    "data = []\n",
    "for row in table.find(\"tbody\").find_all(\"tr\"):\n",
    "    player_data = []\n",
    "    for td in row.find_all(\"td\"):\n",
    "        player_data.append(td.text if td.text else None)\n",
    "    data.append(player_data)\n",
    "\n",
    "df_nba = pd.DataFrame(data, columns=headers)"
   ]
  },
  {
   "cell_type": "code",
   "execution_count": 37,
   "metadata": {},
   "outputs": [
    {
     "data": {
      "text/html": [
       "<div>\n",
       "<style scoped>\n",
       "    .dataframe tbody tr th:only-of-type {\n",
       "        vertical-align: middle;\n",
       "    }\n",
       "\n",
       "    .dataframe tbody tr th {\n",
       "        vertical-align: top;\n",
       "    }\n",
       "\n",
       "    .dataframe thead th {\n",
       "        text-align: right;\n",
       "    }\n",
       "</style>\n",
       "<table border=\"1\" class=\"dataframe\">\n",
       "  <thead>\n",
       "    <tr style=\"text-align: right;\">\n",
       "      <th></th>\n",
       "      <th>Player</th>\n",
       "      <th>Age</th>\n",
       "      <th>Team</th>\n",
       "      <th>Pos</th>\n",
       "      <th>G</th>\n",
       "      <th>GS</th>\n",
       "      <th>MP</th>\n",
       "      <th>FG</th>\n",
       "      <th>FGA</th>\n",
       "      <th>FG%</th>\n",
       "      <th>...</th>\n",
       "      <th>ORB</th>\n",
       "      <th>DRB</th>\n",
       "      <th>TRB</th>\n",
       "      <th>AST</th>\n",
       "      <th>STL</th>\n",
       "      <th>BLK</th>\n",
       "      <th>TOV</th>\n",
       "      <th>PF</th>\n",
       "      <th>PTS</th>\n",
       "      <th>Awards</th>\n",
       "    </tr>\n",
       "  </thead>\n",
       "  <tbody>\n",
       "    <tr>\n",
       "      <th>0</th>\n",
       "      <td>Joel Embiid</td>\n",
       "      <td>27</td>\n",
       "      <td>PHI</td>\n",
       "      <td>C</td>\n",
       "      <td>68</td>\n",
       "      <td>68</td>\n",
       "      <td>33.8</td>\n",
       "      <td>9.8</td>\n",
       "      <td>19.6</td>\n",
       "      <td>.499</td>\n",
       "      <td>...</td>\n",
       "      <td>2.1</td>\n",
       "      <td>9.6</td>\n",
       "      <td>11.7</td>\n",
       "      <td>4.2</td>\n",
       "      <td>1.1</td>\n",
       "      <td>1.5</td>\n",
       "      <td>3.1</td>\n",
       "      <td>2.7</td>\n",
       "      <td>30.6</td>\n",
       "      <td>MVP-2,AS,NBA2</td>\n",
       "    </tr>\n",
       "    <tr>\n",
       "      <th>1</th>\n",
       "      <td>LeBron James</td>\n",
       "      <td>37</td>\n",
       "      <td>LAL</td>\n",
       "      <td>C</td>\n",
       "      <td>56</td>\n",
       "      <td>56</td>\n",
       "      <td>37.2</td>\n",
       "      <td>11.4</td>\n",
       "      <td>21.8</td>\n",
       "      <td>.524</td>\n",
       "      <td>...</td>\n",
       "      <td>1.1</td>\n",
       "      <td>7.1</td>\n",
       "      <td>8.2</td>\n",
       "      <td>6.2</td>\n",
       "      <td>1.3</td>\n",
       "      <td>1.1</td>\n",
       "      <td>3.5</td>\n",
       "      <td>2.2</td>\n",
       "      <td>30.3</td>\n",
       "      <td>MVP-10,AS,NBA3</td>\n",
       "    </tr>\n",
       "    <tr>\n",
       "      <th>2</th>\n",
       "      <td>Giannis Antetokounmpo</td>\n",
       "      <td>27</td>\n",
       "      <td>MIL</td>\n",
       "      <td>PF</td>\n",
       "      <td>67</td>\n",
       "      <td>67</td>\n",
       "      <td>32.9</td>\n",
       "      <td>10.3</td>\n",
       "      <td>18.6</td>\n",
       "      <td>.553</td>\n",
       "      <td>...</td>\n",
       "      <td>2.0</td>\n",
       "      <td>9.6</td>\n",
       "      <td>11.6</td>\n",
       "      <td>5.8</td>\n",
       "      <td>1.1</td>\n",
       "      <td>1.4</td>\n",
       "      <td>3.3</td>\n",
       "      <td>3.2</td>\n",
       "      <td>29.9</td>\n",
       "      <td>MVP-3,DPOY-6,AS,NBA1</td>\n",
       "    </tr>\n",
       "    <tr>\n",
       "      <th>3</th>\n",
       "      <td>Kevin Durant</td>\n",
       "      <td>33</td>\n",
       "      <td>BRK</td>\n",
       "      <td>PF</td>\n",
       "      <td>55</td>\n",
       "      <td>55</td>\n",
       "      <td>37.2</td>\n",
       "      <td>10.5</td>\n",
       "      <td>20.3</td>\n",
       "      <td>.518</td>\n",
       "      <td>...</td>\n",
       "      <td>0.5</td>\n",
       "      <td>6.9</td>\n",
       "      <td>7.4</td>\n",
       "      <td>6.4</td>\n",
       "      <td>0.9</td>\n",
       "      <td>0.9</td>\n",
       "      <td>3.5</td>\n",
       "      <td>2.1</td>\n",
       "      <td>29.9</td>\n",
       "      <td>MVP-10,AS,NBA2</td>\n",
       "    </tr>\n",
       "    <tr>\n",
       "      <th>4</th>\n",
       "      <td>Luka DonÄiÄ</td>\n",
       "      <td>22</td>\n",
       "      <td>DAL</td>\n",
       "      <td>PG</td>\n",
       "      <td>65</td>\n",
       "      <td>65</td>\n",
       "      <td>35.4</td>\n",
       "      <td>9.9</td>\n",
       "      <td>21.6</td>\n",
       "      <td>.457</td>\n",
       "      <td>...</td>\n",
       "      <td>0.9</td>\n",
       "      <td>8.3</td>\n",
       "      <td>9.1</td>\n",
       "      <td>8.7</td>\n",
       "      <td>1.2</td>\n",
       "      <td>0.6</td>\n",
       "      <td>4.5</td>\n",
       "      <td>2.2</td>\n",
       "      <td>28.4</td>\n",
       "      <td>MVP-5,AS,NBA1</td>\n",
       "    </tr>\n",
       "    <tr>\n",
       "      <th>...</th>\n",
       "      <td>...</td>\n",
       "      <td>...</td>\n",
       "      <td>...</td>\n",
       "      <td>...</td>\n",
       "      <td>...</td>\n",
       "      <td>...</td>\n",
       "      <td>...</td>\n",
       "      <td>...</td>\n",
       "      <td>...</td>\n",
       "      <td>...</td>\n",
       "      <td>...</td>\n",
       "      <td>...</td>\n",
       "      <td>...</td>\n",
       "      <td>...</td>\n",
       "      <td>...</td>\n",
       "      <td>...</td>\n",
       "      <td>...</td>\n",
       "      <td>...</td>\n",
       "      <td>...</td>\n",
       "      <td>...</td>\n",
       "      <td>...</td>\n",
       "    </tr>\n",
       "    <tr>\n",
       "      <th>808</th>\n",
       "      <td>Trayvon Palmer</td>\n",
       "      <td>27</td>\n",
       "      <td>DET</td>\n",
       "      <td>SG</td>\n",
       "      <td>1</td>\n",
       "      <td>0</td>\n",
       "      <td>17.0</td>\n",
       "      <td>0.0</td>\n",
       "      <td>1.0</td>\n",
       "      <td>.000</td>\n",
       "      <td>...</td>\n",
       "      <td>0.0</td>\n",
       "      <td>2.0</td>\n",
       "      <td>2.0</td>\n",
       "      <td>0.0</td>\n",
       "      <td>0.0</td>\n",
       "      <td>0.0</td>\n",
       "      <td>1.0</td>\n",
       "      <td>2.0</td>\n",
       "      <td>0.0</td>\n",
       "      <td>None</td>\n",
       "    </tr>\n",
       "    <tr>\n",
       "      <th>809</th>\n",
       "      <td>Emanuel Terry</td>\n",
       "      <td>25</td>\n",
       "      <td>PHO</td>\n",
       "      <td>PF</td>\n",
       "      <td>3</td>\n",
       "      <td>0</td>\n",
       "      <td>6.0</td>\n",
       "      <td>0.0</td>\n",
       "      <td>1.7</td>\n",
       "      <td>.000</td>\n",
       "      <td>...</td>\n",
       "      <td>2.7</td>\n",
       "      <td>2.3</td>\n",
       "      <td>5.0</td>\n",
       "      <td>0.7</td>\n",
       "      <td>0.3</td>\n",
       "      <td>0.0</td>\n",
       "      <td>1.7</td>\n",
       "      <td>1.3</td>\n",
       "      <td>0.0</td>\n",
       "      <td>None</td>\n",
       "    </tr>\n",
       "    <tr>\n",
       "      <th>810</th>\n",
       "      <td>Jon Teske</td>\n",
       "      <td>24</td>\n",
       "      <td>MEM</td>\n",
       "      <td>C</td>\n",
       "      <td>3</td>\n",
       "      <td>0</td>\n",
       "      <td>2.7</td>\n",
       "      <td>0.0</td>\n",
       "      <td>0.3</td>\n",
       "      <td>.000</td>\n",
       "      <td>...</td>\n",
       "      <td>0.0</td>\n",
       "      <td>0.7</td>\n",
       "      <td>0.7</td>\n",
       "      <td>0.3</td>\n",
       "      <td>0.3</td>\n",
       "      <td>0.0</td>\n",
       "      <td>0.0</td>\n",
       "      <td>0.3</td>\n",
       "      <td>0.0</td>\n",
       "      <td>None</td>\n",
       "    </tr>\n",
       "    <tr>\n",
       "      <th>811</th>\n",
       "      <td>M.J. Walker</td>\n",
       "      <td>23</td>\n",
       "      <td>PHO</td>\n",
       "      <td>SG</td>\n",
       "      <td>2</td>\n",
       "      <td>0</td>\n",
       "      <td>4.0</td>\n",
       "      <td>0.0</td>\n",
       "      <td>2.0</td>\n",
       "      <td>.000</td>\n",
       "      <td>...</td>\n",
       "      <td>0.0</td>\n",
       "      <td>0.5</td>\n",
       "      <td>0.5</td>\n",
       "      <td>0.5</td>\n",
       "      <td>1.0</td>\n",
       "      <td>0.0</td>\n",
       "      <td>0.0</td>\n",
       "      <td>0.5</td>\n",
       "      <td>0.0</td>\n",
       "      <td>None</td>\n",
       "    </tr>\n",
       "    <tr>\n",
       "      <th>812</th>\n",
       "      <td>League Average</td>\n",
       "      <td>None</td>\n",
       "      <td>None</td>\n",
       "      <td>None</td>\n",
       "      <td>None</td>\n",
       "      <td>None</td>\n",
       "      <td>None</td>\n",
       "      <td>None</td>\n",
       "      <td>None</td>\n",
       "      <td>.461</td>\n",
       "      <td>...</td>\n",
       "      <td>None</td>\n",
       "      <td>None</td>\n",
       "      <td>None</td>\n",
       "      <td>None</td>\n",
       "      <td>None</td>\n",
       "      <td>None</td>\n",
       "      <td>None</td>\n",
       "      <td>None</td>\n",
       "      <td>None</td>\n",
       "      <td>None</td>\n",
       "    </tr>\n",
       "  </tbody>\n",
       "</table>\n",
       "<p>813 rows × 30 columns</p>\n",
       "</div>"
      ],
      "text/plain": [
       "                    Player   Age  Team   Pos     G    GS    MP    FG   FGA  \\\n",
       "0              Joel Embiid    27   PHI     C    68    68  33.8   9.8  19.6   \n",
       "1             LeBron James    37   LAL     C    56    56  37.2  11.4  21.8   \n",
       "2    Giannis Antetokounmpo    27   MIL    PF    67    67  32.9  10.3  18.6   \n",
       "3             Kevin Durant    33   BRK    PF    55    55  37.2  10.5  20.3   \n",
       "4            Luka DonÄiÄ    22   DAL    PG    65    65  35.4   9.9  21.6   \n",
       "..                     ...   ...   ...   ...   ...   ...   ...   ...   ...   \n",
       "808         Trayvon Palmer    27   DET    SG     1     0  17.0   0.0   1.0   \n",
       "809          Emanuel Terry    25   PHO    PF     3     0   6.0   0.0   1.7   \n",
       "810              Jon Teske    24   MEM     C     3     0   2.7   0.0   0.3   \n",
       "811            M.J. Walker    23   PHO    SG     2     0   4.0   0.0   2.0   \n",
       "812         League Average  None  None  None  None  None  None  None  None   \n",
       "\n",
       "      FG%  ...   ORB   DRB   TRB   AST   STL   BLK   TOV    PF   PTS  \\\n",
       "0    .499  ...   2.1   9.6  11.7   4.2   1.1   1.5   3.1   2.7  30.6   \n",
       "1    .524  ...   1.1   7.1   8.2   6.2   1.3   1.1   3.5   2.2  30.3   \n",
       "2    .553  ...   2.0   9.6  11.6   5.8   1.1   1.4   3.3   3.2  29.9   \n",
       "3    .518  ...   0.5   6.9   7.4   6.4   0.9   0.9   3.5   2.1  29.9   \n",
       "4    .457  ...   0.9   8.3   9.1   8.7   1.2   0.6   4.5   2.2  28.4   \n",
       "..    ...  ...   ...   ...   ...   ...   ...   ...   ...   ...   ...   \n",
       "808  .000  ...   0.0   2.0   2.0   0.0   0.0   0.0   1.0   2.0   0.0   \n",
       "809  .000  ...   2.7   2.3   5.0   0.7   0.3   0.0   1.7   1.3   0.0   \n",
       "810  .000  ...   0.0   0.7   0.7   0.3   0.3   0.0   0.0   0.3   0.0   \n",
       "811  .000  ...   0.0   0.5   0.5   0.5   1.0   0.0   0.0   0.5   0.0   \n",
       "812  .461  ...  None  None  None  None  None  None  None  None  None   \n",
       "\n",
       "                   Awards  \n",
       "0           MVP-2,AS,NBA2  \n",
       "1          MVP-10,AS,NBA3  \n",
       "2    MVP-3,DPOY-6,AS,NBA1  \n",
       "3          MVP-10,AS,NBA2  \n",
       "4           MVP-5,AS,NBA1  \n",
       "..                    ...  \n",
       "808                  None  \n",
       "809                  None  \n",
       "810                  None  \n",
       "811                  None  \n",
       "812                  None  \n",
       "\n",
       "[813 rows x 30 columns]"
      ]
     },
     "execution_count": 37,
     "metadata": {},
     "output_type": "execute_result"
    }
   ],
   "source": [
    "df_nba"
   ]
  },
  {
   "cell_type": "markdown",
   "metadata": {},
   "source": [
    "### Export des données au format csv"
   ]
  },
  {
   "cell_type": "code",
   "execution_count": 38,
   "metadata": {},
   "outputs": [
    {
     "name": "stdout",
     "output_type": "stream",
     "text": [
      "Fichier CSV exporté : data_NBA_per_game_2022.csv\n"
     ]
    }
   ],
   "source": [
    "df_nba.to_csv(\"./output/NBA/data_NBA_per_game_2022.csv\", index=False)\n",
    "print(\"Fichier CSV exporté : data_NBA_per_game_2022.csv\")"
   ]
  },
  {
   "cell_type": "markdown",
   "metadata": {},
   "source": [
    "## Cas Pratique 2"
   ]
  },
  {
   "cell_type": "markdown",
   "metadata": {},
   "source": [
    "### Chargement des données"
   ]
  },
  {
   "cell_type": "code",
   "execution_count": 39,
   "metadata": {},
   "outputs": [],
   "source": [
    "url = \"https://content.codecademy.com/courses/beautifulsoup/cacao/index.html\""
   ]
  },
  {
   "cell_type": "code",
   "execution_count": 40,
   "metadata": {},
   "outputs": [],
   "source": [
    "response = requests.get(url)\n",
    "soup = BeautifulSoup(response.text, \"html.parser\")\n",
    "\n",
    "table = soup.find(\"table\", {\"id\": \"cacaoTable\"})"
   ]
  },
  {
   "cell_type": "code",
   "execution_count": 41,
   "metadata": {},
   "outputs": [],
   "source": [
    "headers = [th.text.strip() for th in table.find_all(\"th\")]"
   ]
  },
  {
   "cell_type": "markdown",
   "metadata": {},
   "source": [
    "### Extraction des données"
   ]
  },
  {
   "cell_type": "code",
   "execution_count": 42,
   "metadata": {},
   "outputs": [],
   "source": [
    "data = []\n",
    "for row in table.find_all(\"tr\")[1:]:\n",
    "    cells = row.find_all(\"td\")\n",
    "    cocoa_percent = cells[4].text.strip().replace('%', '') \n",
    "    rating = cells[6].text.strip()\n",
    "    data.append([float(rating), float(cocoa_percent)])\n",
    "        \n",
    "df_cacao = pd.DataFrame(data, columns=[\"Rating\", \"CocoaPercentage\"])"
   ]
  },
  {
   "cell_type": "markdown",
   "metadata": {},
   "source": [
    "### Export des données au format csv"
   ]
  },
  {
   "cell_type": "code",
   "execution_count": 43,
   "metadata": {},
   "outputs": [],
   "source": [
    "df_cacao.to_csv(\"./output/CACAO/cacao_ratings.csv\", index=False)"
   ]
  },
  {
   "cell_type": "code",
   "execution_count": 44,
   "metadata": {},
   "outputs": [
    {
     "name": "stdout",
     "output_type": "stream",
     "text": [
      "Fichier CSV exporté avec succès.\n"
     ]
    }
   ],
   "source": [
    "print(\"Fichier CSV exporté avec succès.\")"
   ]
  },
  {
   "cell_type": "markdown",
   "metadata": {},
   "source": [
    "### Export des données au format json"
   ]
  },
  {
   "cell_type": "code",
   "execution_count": 45,
   "metadata": {},
   "outputs": [],
   "source": [
    "df_cacao.to_json(\"./output/CACAO/cacao_ratings_index.json\", orient=\"index\")\n",
    "df_cacao.to_json(\"./output/CACAO/cacao_ratings_records.json\", orient=\"records\")\n",
    "df_cacao.to_json(\"./output/CACAO/cacao_ratings_values.json\", orient=\"values\")"
   ]
  },
  {
   "cell_type": "code",
   "execution_count": 46,
   "metadata": {},
   "outputs": [
    {
     "name": "stdout",
     "output_type": "stream",
     "text": [
      "Fichiers JSON exportés avec succès.\n"
     ]
    }
   ],
   "source": [
    "print(\"Fichiers JSON exportés avec succès.\")"
   ]
  },
  {
   "cell_type": "markdown",
   "metadata": {},
   "source": [
    "## Cas Pratique 3 : Laptops"
   ]
  },
  {
   "cell_type": "markdown",
   "metadata": {},
   "source": [
    "### Chargement des données"
   ]
  },
  {
   "cell_type": "code",
   "execution_count": 47,
   "metadata": {},
   "outputs": [],
   "source": [
    "base_url = \"https://www.webscraper.io/test-sites/e-commerce/static/computers/laptops\""
   ]
  },
  {
   "cell_type": "code",
   "execution_count": 48,
   "metadata": {},
   "outputs": [],
   "source": [
    "response = requests.get(base_url)\n",
    "soup = BeautifulSoup(response.text, \"html.parser\")"
   ]
  },
  {
   "cell_type": "code",
   "execution_count": 49,
   "metadata": {},
   "outputs": [],
   "source": [
    "last_page = int(soup.find_all(\"a\", class_=\"page-link\")[-2].text)"
   ]
  },
  {
   "cell_type": "markdown",
   "metadata": {},
   "source": [
    "### Extraction des données"
   ]
  },
  {
   "cell_type": "code",
   "execution_count": 50,
   "metadata": {},
   "outputs": [],
   "source": [
    "data = []\n",
    "\n",
    "for page in range(1, last_page + 1):\n",
    "    url = f\"{base_url}?page={page}\"\n",
    "    response = requests.get(url)\n",
    "    soup = BeautifulSoup(response.text, \"html.parser\")\n",
    "    \n",
    "    items = soup.find_all(\"div\", class_=\"thumbnail\")\n",
    "    \n",
    "    for item in items:\n",
    "        name = item.find(\"a\", class_=\"title\").text.strip()\n",
    "        description = item.find(\"p\", class_=\"description\").text.strip()\n",
    "        price = float(item.find(\"h4\", class_=\"price\").text.replace(\"$\", \"\").strip())\n",
    "        rating_balise = item.find(\"p\", {\"data-rating\": True})\n",
    "        rating = int(rating_balise[\"data-rating\"]) if rating_balise else None\n",
    "        \n",
    "        data.append([name, description, price, rating])\n",
    "\n",
    "df_laptop = pd.DataFrame(data, columns=[\"Name\", \"Description\", \"Price\", \"Rating\"])"
   ]
  },
  {
   "cell_type": "code",
   "execution_count": 51,
   "metadata": {},
   "outputs": [
    {
     "data": {
      "text/html": [
       "<div>\n",
       "<style scoped>\n",
       "    .dataframe tbody tr th:only-of-type {\n",
       "        vertical-align: middle;\n",
       "    }\n",
       "\n",
       "    .dataframe tbody tr th {\n",
       "        vertical-align: top;\n",
       "    }\n",
       "\n",
       "    .dataframe thead th {\n",
       "        text-align: right;\n",
       "    }\n",
       "</style>\n",
       "<table border=\"1\" class=\"dataframe\">\n",
       "  <thead>\n",
       "    <tr style=\"text-align: right;\">\n",
       "      <th></th>\n",
       "      <th>Name</th>\n",
       "      <th>Description</th>\n",
       "      <th>Price</th>\n",
       "      <th>Rating</th>\n",
       "    </tr>\n",
       "  </thead>\n",
       "  <tbody>\n",
       "    <tr>\n",
       "      <th>0</th>\n",
       "      <td>Packard 255 G2</td>\n",
       "      <td>15.6\", AMD E2-3800 1.3GHz, 4GB, 500GB, Windows...</td>\n",
       "      <td>416.99</td>\n",
       "      <td>2</td>\n",
       "    </tr>\n",
       "    <tr>\n",
       "      <th>1</th>\n",
       "      <td>Aspire E1-510</td>\n",
       "      <td>15.6\", Pentium N3520 2.16GHz, 4GB, 500GB, Linux</td>\n",
       "      <td>306.99</td>\n",
       "      <td>3</td>\n",
       "    </tr>\n",
       "    <tr>\n",
       "      <th>2</th>\n",
       "      <td>ThinkPad T540p</td>\n",
       "      <td>15.6\", Core i5-4200M, 4GB, 500GB, Win7 Pro 64bit</td>\n",
       "      <td>1178.99</td>\n",
       "      <td>1</td>\n",
       "    </tr>\n",
       "    <tr>\n",
       "      <th>3</th>\n",
       "      <td>ProBook</td>\n",
       "      <td>14\", Core i5 2.6GHz, 4GB, 500GB, Win7 Pro 64bit</td>\n",
       "      <td>739.99</td>\n",
       "      <td>4</td>\n",
       "    </tr>\n",
       "    <tr>\n",
       "      <th>4</th>\n",
       "      <td>ThinkPad X240</td>\n",
       "      <td>12.5\", Core i5-4300U, 8GB, 240GB SSD, Win7 Pro...</td>\n",
       "      <td>1311.99</td>\n",
       "      <td>3</td>\n",
       "    </tr>\n",
       "    <tr>\n",
       "      <th>...</th>\n",
       "      <td>...</td>\n",
       "      <td>...</td>\n",
       "      <td>...</td>\n",
       "      <td>...</td>\n",
       "    </tr>\n",
       "    <tr>\n",
       "      <th>112</th>\n",
       "      <td>Lenovo ThinkPa...</td>\n",
       "      <td>Lenovo ThinkPad T470, 14\" FHD IPS, Core i5-720...</td>\n",
       "      <td>1349.23</td>\n",
       "      <td>1</td>\n",
       "    </tr>\n",
       "    <tr>\n",
       "      <th>113</th>\n",
       "      <td>Lenovo ThinkPa...</td>\n",
       "      <td>Lenovo ThinkPad Yoga 370 Black, 13.3\" FHD IPS ...</td>\n",
       "      <td>1362.24</td>\n",
       "      <td>2</td>\n",
       "    </tr>\n",
       "    <tr>\n",
       "      <th>114</th>\n",
       "      <td>Toshiba Porteg...</td>\n",
       "      <td>Toshiba Portege X20W-D-10V Black/Blue, 12.5\" F...</td>\n",
       "      <td>1366.32</td>\n",
       "      <td>1</td>\n",
       "    </tr>\n",
       "    <tr>\n",
       "      <th>115</th>\n",
       "      <td>Asus ASUSPRO B...</td>\n",
       "      <td>Asus ASUSPRO B9440UA-GV0279R Gray, 14\" FHD, Co...</td>\n",
       "      <td>1381.13</td>\n",
       "      <td>1</td>\n",
       "    </tr>\n",
       "    <tr>\n",
       "      <th>116</th>\n",
       "      <td>Asus ROG Strix...</td>\n",
       "      <td>Asus ROG Strix GL702VM-GC146T, 17.3\" FHD, Core...</td>\n",
       "      <td>1399.00</td>\n",
       "      <td>3</td>\n",
       "    </tr>\n",
       "  </tbody>\n",
       "</table>\n",
       "<p>117 rows × 4 columns</p>\n",
       "</div>"
      ],
      "text/plain": [
       "                  Name                                        Description  \\\n",
       "0       Packard 255 G2  15.6\", AMD E2-3800 1.3GHz, 4GB, 500GB, Windows...   \n",
       "1        Aspire E1-510    15.6\", Pentium N3520 2.16GHz, 4GB, 500GB, Linux   \n",
       "2       ThinkPad T540p   15.6\", Core i5-4200M, 4GB, 500GB, Win7 Pro 64bit   \n",
       "3              ProBook    14\", Core i5 2.6GHz, 4GB, 500GB, Win7 Pro 64bit   \n",
       "4        ThinkPad X240  12.5\", Core i5-4300U, 8GB, 240GB SSD, Win7 Pro...   \n",
       "..                 ...                                                ...   \n",
       "112  Lenovo ThinkPa...  Lenovo ThinkPad T470, 14\" FHD IPS, Core i5-720...   \n",
       "113  Lenovo ThinkPa...  Lenovo ThinkPad Yoga 370 Black, 13.3\" FHD IPS ...   \n",
       "114  Toshiba Porteg...  Toshiba Portege X20W-D-10V Black/Blue, 12.5\" F...   \n",
       "115  Asus ASUSPRO B...  Asus ASUSPRO B9440UA-GV0279R Gray, 14\" FHD, Co...   \n",
       "116  Asus ROG Strix...  Asus ROG Strix GL702VM-GC146T, 17.3\" FHD, Core...   \n",
       "\n",
       "       Price  Rating  \n",
       "0     416.99       2  \n",
       "1     306.99       3  \n",
       "2    1178.99       1  \n",
       "3     739.99       4  \n",
       "4    1311.99       3  \n",
       "..       ...     ...  \n",
       "112  1349.23       1  \n",
       "113  1362.24       2  \n",
       "114  1366.32       1  \n",
       "115  1381.13       1  \n",
       "116  1399.00       3  \n",
       "\n",
       "[117 rows x 4 columns]"
      ]
     },
     "execution_count": 51,
     "metadata": {},
     "output_type": "execute_result"
    }
   ],
   "source": [
    "df_laptop"
   ]
  },
  {
   "cell_type": "markdown",
   "metadata": {},
   "source": [
    "### Export des données au format csv"
   ]
  },
  {
   "cell_type": "code",
   "execution_count": 52,
   "metadata": {},
   "outputs": [],
   "source": [
    "df_laptop.to_csv(\"./output/LAPTOPS/laptops_data.csv\", sep=\";\", index=False)"
   ]
  },
  {
   "cell_type": "markdown",
   "metadata": {},
   "source": [
    "### Analyse"
   ]
  },
  {
   "cell_type": "markdown",
   "metadata": {},
   "source": [
    "Les 3 laptops les mieux notés."
   ]
  },
  {
   "cell_type": "code",
   "execution_count": 53,
   "metadata": {},
   "outputs": [
    {
     "data": {
      "text/html": [
       "<div>\n",
       "<style scoped>\n",
       "    .dataframe tbody tr th:only-of-type {\n",
       "        vertical-align: middle;\n",
       "    }\n",
       "\n",
       "    .dataframe tbody tr th {\n",
       "        vertical-align: top;\n",
       "    }\n",
       "\n",
       "    .dataframe thead th {\n",
       "        text-align: right;\n",
       "    }\n",
       "</style>\n",
       "<table border=\"1\" class=\"dataframe\">\n",
       "  <thead>\n",
       "    <tr style=\"text-align: right;\">\n",
       "      <th></th>\n",
       "      <th>Name</th>\n",
       "      <th>Description</th>\n",
       "      <th>Price</th>\n",
       "      <th>Rating</th>\n",
       "    </tr>\n",
       "  </thead>\n",
       "  <tbody>\n",
       "    <tr>\n",
       "      <th>3</th>\n",
       "      <td>ProBook</td>\n",
       "      <td>14\", Core i5 2.6GHz, 4GB, 500GB, Win7 Pro 64bit</td>\n",
       "      <td>739.99</td>\n",
       "      <td>4</td>\n",
       "    </tr>\n",
       "    <tr>\n",
       "      <th>15</th>\n",
       "      <td>Dell Vostro 15</td>\n",
       "      <td>Dell Vostro 15 (3568) Black, 15.6\" FHD, Core i...</td>\n",
       "      <td>488.78</td>\n",
       "      <td>4</td>\n",
       "    </tr>\n",
       "    <tr>\n",
       "      <th>26</th>\n",
       "      <td>Asus ROG Strix...</td>\n",
       "      <td>Asus ROG Strix GL702ZC-GC154T, 17.3\" FHD, Ryze...</td>\n",
       "      <td>1769.00</td>\n",
       "      <td>4</td>\n",
       "    </tr>\n",
       "  </tbody>\n",
       "</table>\n",
       "</div>"
      ],
      "text/plain": [
       "                 Name                                        Description  \\\n",
       "3             ProBook    14\", Core i5 2.6GHz, 4GB, 500GB, Win7 Pro 64bit   \n",
       "15     Dell Vostro 15  Dell Vostro 15 (3568) Black, 15.6\" FHD, Core i...   \n",
       "26  Asus ROG Strix...  Asus ROG Strix GL702ZC-GC154T, 17.3\" FHD, Ryze...   \n",
       "\n",
       "      Price  Rating  \n",
       "3    739.99       4  \n",
       "15   488.78       4  \n",
       "26  1769.00       4  "
      ]
     },
     "execution_count": 53,
     "metadata": {},
     "output_type": "execute_result"
    }
   ],
   "source": [
    "top_rated = df_laptop.nlargest(3, \"Rating\")\n",
    "top_rated"
   ]
  },
  {
   "cell_type": "markdown",
   "metadata": {},
   "source": [
    "Les 3 laptops les moins bien notés."
   ]
  },
  {
   "cell_type": "code",
   "execution_count": 54,
   "metadata": {},
   "outputs": [
    {
     "data": {
      "text/html": [
       "<div>\n",
       "<style scoped>\n",
       "    .dataframe tbody tr th:only-of-type {\n",
       "        vertical-align: middle;\n",
       "    }\n",
       "\n",
       "    .dataframe tbody tr th {\n",
       "        vertical-align: top;\n",
       "    }\n",
       "\n",
       "    .dataframe thead th {\n",
       "        text-align: right;\n",
       "    }\n",
       "</style>\n",
       "<table border=\"1\" class=\"dataframe\">\n",
       "  <thead>\n",
       "    <tr style=\"text-align: right;\">\n",
       "      <th></th>\n",
       "      <th>Name</th>\n",
       "      <th>Description</th>\n",
       "      <th>Price</th>\n",
       "      <th>Rating</th>\n",
       "    </tr>\n",
       "  </thead>\n",
       "  <tbody>\n",
       "    <tr>\n",
       "      <th>2</th>\n",
       "      <td>ThinkPad T540p</td>\n",
       "      <td>15.6\", Core i5-4200M, 4GB, 500GB, Win7 Pro 64bit</td>\n",
       "      <td>1178.99</td>\n",
       "      <td>1</td>\n",
       "    </tr>\n",
       "    <tr>\n",
       "      <th>5</th>\n",
       "      <td>Aspire E1-572G</td>\n",
       "      <td>15.6\", Core i5-4200U, 8GB, 1TB, Radeon R7 M265...</td>\n",
       "      <td>581.99</td>\n",
       "      <td>1</td>\n",
       "    </tr>\n",
       "    <tr>\n",
       "      <th>7</th>\n",
       "      <td>Pavilion</td>\n",
       "      <td>15.6\", Core i5-4200U, 6GB, 750GB, Windows 8.1</td>\n",
       "      <td>609.99</td>\n",
       "      <td>1</td>\n",
       "    </tr>\n",
       "  </tbody>\n",
       "</table>\n",
       "</div>"
      ],
      "text/plain": [
       "             Name                                        Description    Price  \\\n",
       "2  ThinkPad T540p   15.6\", Core i5-4200M, 4GB, 500GB, Win7 Pro 64bit  1178.99   \n",
       "5  Aspire E1-572G  15.6\", Core i5-4200U, 8GB, 1TB, Radeon R7 M265...   581.99   \n",
       "7        Pavilion      15.6\", Core i5-4200U, 6GB, 750GB, Windows 8.1   609.99   \n",
       "\n",
       "   Rating  \n",
       "2       1  \n",
       "5       1  \n",
       "7       1  "
      ]
     },
     "execution_count": 54,
     "metadata": {},
     "output_type": "execute_result"
    }
   ],
   "source": [
    "lowest_rated = df_laptop.nsmallest(3, \"Rating\")\n",
    "lowest_rated"
   ]
  },
  {
   "cell_type": "markdown",
   "metadata": {},
   "source": [
    "Les 3 laptops les plus chers."
   ]
  },
  {
   "cell_type": "code",
   "execution_count": 55,
   "metadata": {},
   "outputs": [
    {
     "data": {
      "text/html": [
       "<div>\n",
       "<style scoped>\n",
       "    .dataframe tbody tr th:only-of-type {\n",
       "        vertical-align: middle;\n",
       "    }\n",
       "\n",
       "    .dataframe tbody tr th {\n",
       "        vertical-align: top;\n",
       "    }\n",
       "\n",
       "    .dataframe thead th {\n",
       "        text-align: right;\n",
       "    }\n",
       "</style>\n",
       "<table border=\"1\" class=\"dataframe\">\n",
       "  <thead>\n",
       "    <tr style=\"text-align: right;\">\n",
       "      <th></th>\n",
       "      <th>Name</th>\n",
       "      <th>Description</th>\n",
       "      <th>Price</th>\n",
       "      <th>Rating</th>\n",
       "    </tr>\n",
       "  </thead>\n",
       "  <tbody>\n",
       "    <tr>\n",
       "      <th>28</th>\n",
       "      <td>Asus ROG Strix...</td>\n",
       "      <td>Asus ROG Strix SCAR Edition GL503VM-ED115T, 15...</td>\n",
       "      <td>1799.0</td>\n",
       "      <td>3</td>\n",
       "    </tr>\n",
       "    <tr>\n",
       "      <th>26</th>\n",
       "      <td>Asus ROG Strix...</td>\n",
       "      <td>Asus ROG Strix GL702ZC-GC154T, 17.3\" FHD, Ryze...</td>\n",
       "      <td>1769.0</td>\n",
       "      <td>4</td>\n",
       "    </tr>\n",
       "    <tr>\n",
       "      <th>27</th>\n",
       "      <td>Asus ROG Strix...</td>\n",
       "      <td>Asus ROG Strix GL702ZC-GC209T, 17.3\" FHD IPS, ...</td>\n",
       "      <td>1769.0</td>\n",
       "      <td>1</td>\n",
       "    </tr>\n",
       "  </tbody>\n",
       "</table>\n",
       "</div>"
      ],
      "text/plain": [
       "                 Name                                        Description  \\\n",
       "28  Asus ROG Strix...  Asus ROG Strix SCAR Edition GL503VM-ED115T, 15...   \n",
       "26  Asus ROG Strix...  Asus ROG Strix GL702ZC-GC154T, 17.3\" FHD, Ryze...   \n",
       "27  Asus ROG Strix...  Asus ROG Strix GL702ZC-GC209T, 17.3\" FHD IPS, ...   \n",
       "\n",
       "     Price  Rating  \n",
       "28  1799.0       3  \n",
       "26  1769.0       4  \n",
       "27  1769.0       1  "
      ]
     },
     "execution_count": 55,
     "metadata": {},
     "output_type": "execute_result"
    }
   ],
   "source": [
    "most_expensive = df_laptop.nlargest(3, \"Price\")\n",
    "most_expensive"
   ]
  },
  {
   "cell_type": "markdown",
   "metadata": {},
   "source": [
    "Les 3 laptops les moins chers."
   ]
  },
  {
   "cell_type": "code",
   "execution_count": 56,
   "metadata": {},
   "outputs": [
    {
     "data": {
      "text/html": [
       "<div>\n",
       "<style scoped>\n",
       "    .dataframe tbody tr th:only-of-type {\n",
       "        vertical-align: middle;\n",
       "    }\n",
       "\n",
       "    .dataframe tbody tr th {\n",
       "        vertical-align: top;\n",
       "    }\n",
       "\n",
       "    .dataframe thead th {\n",
       "        text-align: right;\n",
       "    }\n",
       "</style>\n",
       "<table border=\"1\" class=\"dataframe\">\n",
       "  <thead>\n",
       "    <tr style=\"text-align: right;\">\n",
       "      <th></th>\n",
       "      <th>Name</th>\n",
       "      <th>Description</th>\n",
       "      <th>Price</th>\n",
       "      <th>Rating</th>\n",
       "    </tr>\n",
       "  </thead>\n",
       "  <tbody>\n",
       "    <tr>\n",
       "      <th>29</th>\n",
       "      <td>Asus VivoBook...</td>\n",
       "      <td>Asus VivoBook X441NA-GA190 Chocolate Black, 14...</td>\n",
       "      <td>295.99</td>\n",
       "      <td>3</td>\n",
       "    </tr>\n",
       "    <tr>\n",
       "      <th>30</th>\n",
       "      <td>Prestigio Smar...</td>\n",
       "      <td>Prestigio SmartBook 133S Dark Grey, 13.3\" FHD ...</td>\n",
       "      <td>299.00</td>\n",
       "      <td>2</td>\n",
       "    </tr>\n",
       "    <tr>\n",
       "      <th>31</th>\n",
       "      <td>Prestigio Smar...</td>\n",
       "      <td>Prestigio SmartBook 133S Gold, 13.3\" FHD IPS, ...</td>\n",
       "      <td>299.00</td>\n",
       "      <td>4</td>\n",
       "    </tr>\n",
       "  </tbody>\n",
       "</table>\n",
       "</div>"
      ],
      "text/plain": [
       "                 Name                                        Description  \\\n",
       "29   Asus VivoBook...  Asus VivoBook X441NA-GA190 Chocolate Black, 14...   \n",
       "30  Prestigio Smar...  Prestigio SmartBook 133S Dark Grey, 13.3\" FHD ...   \n",
       "31  Prestigio Smar...  Prestigio SmartBook 133S Gold, 13.3\" FHD IPS, ...   \n",
       "\n",
       "     Price  Rating  \n",
       "29  295.99       3  \n",
       "30  299.00       2  \n",
       "31  299.00       4  "
      ]
     },
     "execution_count": 56,
     "metadata": {},
     "output_type": "execute_result"
    }
   ],
   "source": [
    "least_expensive = df_laptop.nsmallest(3, \"Price\")\n",
    "least_expensive"
   ]
  },
  {
   "cell_type": "markdown",
   "metadata": {},
   "source": [
    "## Cas Pratique 3 : Tablets"
   ]
  },
  {
   "cell_type": "markdown",
   "metadata": {},
   "source": [
    "### Chargement des données"
   ]
  },
  {
   "cell_type": "code",
   "execution_count": 57,
   "metadata": {},
   "outputs": [],
   "source": [
    "base_url = \"https://www.webscraper.io/test-sites/e-commerce/static/computers/tablets\""
   ]
  },
  {
   "cell_type": "code",
   "execution_count": 58,
   "metadata": {},
   "outputs": [],
   "source": [
    "last_page = int(soup.find_all(\"a\", class_=\"page-link\")[-2].text)"
   ]
  },
  {
   "cell_type": "markdown",
   "metadata": {},
   "source": [
    "### Extraction des données"
   ]
  },
  {
   "cell_type": "code",
   "execution_count": 59,
   "metadata": {},
   "outputs": [],
   "source": [
    "data = []\n",
    "\n",
    "for page in range(1, last_page + 1):\n",
    "    url = f\"{base_url}?page={page}\"\n",
    "    response = requests.get(url)\n",
    "    soup = BeautifulSoup(response.text, \"html.parser\")\n",
    "    \n",
    "    items = soup.find_all(\"div\", class_=\"thumbnail\")\n",
    "    \n",
    "    for item in items:\n",
    "        name = item.find(\"a\", class_=\"title\").text.strip()\n",
    "        description = item.find(\"p\", class_=\"description\").text.strip()\n",
    "        price = float(item.find(\"h4\", class_=\"price\").text.replace(\"$\", \"\").strip())\n",
    "        rating_balise = item.find(\"p\", {\"data-rating\": True})\n",
    "        rating = int(rating_balise[\"data-rating\"]) if rating_balise else None\n",
    "        \n",
    "        data.append([name, description, price, rating])\n",
    "\n",
    "df_tablets = pd.DataFrame(data, columns=[\"Name\", \"Description\", \"Price\", \"Rating\"])"
   ]
  },
  {
   "cell_type": "code",
   "execution_count": 60,
   "metadata": {},
   "outputs": [
    {
     "data": {
      "text/html": [
       "<div>\n",
       "<style scoped>\n",
       "    .dataframe tbody tr th:only-of-type {\n",
       "        vertical-align: middle;\n",
       "    }\n",
       "\n",
       "    .dataframe tbody tr th {\n",
       "        vertical-align: top;\n",
       "    }\n",
       "\n",
       "    .dataframe thead th {\n",
       "        text-align: right;\n",
       "    }\n",
       "</style>\n",
       "<table border=\"1\" class=\"dataframe\">\n",
       "  <thead>\n",
       "    <tr style=\"text-align: right;\">\n",
       "      <th></th>\n",
       "      <th>Name</th>\n",
       "      <th>Description</th>\n",
       "      <th>Price</th>\n",
       "      <th>Rating</th>\n",
       "    </tr>\n",
       "  </thead>\n",
       "  <tbody>\n",
       "    <tr>\n",
       "      <th>0</th>\n",
       "      <td>Lenovo IdeaTab</td>\n",
       "      <td>7\" screen, Android</td>\n",
       "      <td>69.99</td>\n",
       "      <td>3</td>\n",
       "    </tr>\n",
       "    <tr>\n",
       "      <th>1</th>\n",
       "      <td>Acer Iconia</td>\n",
       "      <td>7\" screen, Android, 16GB</td>\n",
       "      <td>96.99</td>\n",
       "      <td>1</td>\n",
       "    </tr>\n",
       "    <tr>\n",
       "      <th>2</th>\n",
       "      <td>Asus MeMO Pad</td>\n",
       "      <td>7\" screen, Android, 8GB</td>\n",
       "      <td>102.99</td>\n",
       "      <td>4</td>\n",
       "    </tr>\n",
       "    <tr>\n",
       "      <th>3</th>\n",
       "      <td>Amazon Kindle</td>\n",
       "      <td>6\" screen, wifi</td>\n",
       "      <td>103.99</td>\n",
       "      <td>4</td>\n",
       "    </tr>\n",
       "    <tr>\n",
       "      <th>4</th>\n",
       "      <td>iPad Mini Reti...</td>\n",
       "      <td>Wi-Fi + Cellular, 32GB, Silver</td>\n",
       "      <td>537.99</td>\n",
       "      <td>2</td>\n",
       "    </tr>\n",
       "    <tr>\n",
       "      <th>5</th>\n",
       "      <td>IdeaTab A3500L</td>\n",
       "      <td>Black, 7\" IPS, Quad-Core 1.2GHz, 8GB, Android 4.2</td>\n",
       "      <td>88.99</td>\n",
       "      <td>4</td>\n",
       "    </tr>\n",
       "    <tr>\n",
       "      <th>6</th>\n",
       "      <td>Galaxy Tab</td>\n",
       "      <td>16GB, White</td>\n",
       "      <td>251.99</td>\n",
       "      <td>3</td>\n",
       "    </tr>\n",
       "    <tr>\n",
       "      <th>7</th>\n",
       "      <td>IdeaTab A3500-...</td>\n",
       "      <td>Blue, 7\" IPS, Quad-Core 1.3GHz, 8GB, 3G, Andro...</td>\n",
       "      <td>148.99</td>\n",
       "      <td>2</td>\n",
       "    </tr>\n",
       "    <tr>\n",
       "      <th>8</th>\n",
       "      <td>Galaxy Tab 3</td>\n",
       "      <td>7\", 8GB, Wi-Fi, Android 4.2, White</td>\n",
       "      <td>97.99</td>\n",
       "      <td>2</td>\n",
       "    </tr>\n",
       "    <tr>\n",
       "      <th>9</th>\n",
       "      <td>Galaxy Note</td>\n",
       "      <td>12.2\", 32GB, WiFi, Android 4.4, White</td>\n",
       "      <td>489.99</td>\n",
       "      <td>3</td>\n",
       "    </tr>\n",
       "    <tr>\n",
       "      <th>10</th>\n",
       "      <td>MeMO Pad 7</td>\n",
       "      <td>White, 7\", Atom 1.2GHz, 8GB, Android 4.4</td>\n",
       "      <td>130.99</td>\n",
       "      <td>1</td>\n",
       "    </tr>\n",
       "    <tr>\n",
       "      <th>11</th>\n",
       "      <td>Galaxy Tab 4</td>\n",
       "      <td>LTE (SM-T235), Quad-Core 1.2GHz, 8GB, Black</td>\n",
       "      <td>233.99</td>\n",
       "      <td>4</td>\n",
       "    </tr>\n",
       "    <tr>\n",
       "      <th>12</th>\n",
       "      <td>Galaxy Tab 3</td>\n",
       "      <td>7\", 8GB, Wi-Fi, Android 4.2, Yellow</td>\n",
       "      <td>107.99</td>\n",
       "      <td>2</td>\n",
       "    </tr>\n",
       "    <tr>\n",
       "      <th>13</th>\n",
       "      <td>Memo Pad HD 7</td>\n",
       "      <td>IPS, Dual-Core 1.2GHz, 8GB, Android 4.3</td>\n",
       "      <td>101.99</td>\n",
       "      <td>2</td>\n",
       "    </tr>\n",
       "    <tr>\n",
       "      <th>14</th>\n",
       "      <td>Galaxy Note 10...</td>\n",
       "      <td>10.1\", 32GB, Black</td>\n",
       "      <td>587.99</td>\n",
       "      <td>2</td>\n",
       "    </tr>\n",
       "    <tr>\n",
       "      <th>15</th>\n",
       "      <td>MeMo PAD FHD 1...</td>\n",
       "      <td>White, 10.1\" IPS, 1.6GHz, 2GB, 16GB, Android 4.2</td>\n",
       "      <td>320.99</td>\n",
       "      <td>2</td>\n",
       "    </tr>\n",
       "    <tr>\n",
       "      <th>16</th>\n",
       "      <td>IdeaTab S5000</td>\n",
       "      <td>Silver, 7\" IPS, Quad-Core 1.2Ghz, 16GB, 3G, An...</td>\n",
       "      <td>172.99</td>\n",
       "      <td>3</td>\n",
       "    </tr>\n",
       "    <tr>\n",
       "      <th>17</th>\n",
       "      <td>Iconia B1-730H...</td>\n",
       "      <td>Black, 7\", 1.6GHz Dual-Core, 8GB, Android 4.4</td>\n",
       "      <td>99.99</td>\n",
       "      <td>3</td>\n",
       "    </tr>\n",
       "    <tr>\n",
       "      <th>18</th>\n",
       "      <td>IdeaTab A8-50</td>\n",
       "      <td>Blue, 8\" IPS, Quad-Core 1.3GHz, 16GB, Android 4.2</td>\n",
       "      <td>121.99</td>\n",
       "      <td>2</td>\n",
       "    </tr>\n",
       "    <tr>\n",
       "      <th>19</th>\n",
       "      <td>Galaxy Note</td>\n",
       "      <td>10.1\", 3G, Android 4.0, Garnet Red</td>\n",
       "      <td>399.99</td>\n",
       "      <td>4</td>\n",
       "    </tr>\n",
       "    <tr>\n",
       "      <th>20</th>\n",
       "      <td>Apple iPad Air</td>\n",
       "      <td>Wi-Fi, 64GB, Silver</td>\n",
       "      <td>603.99</td>\n",
       "      <td>3</td>\n",
       "    </tr>\n",
       "  </tbody>\n",
       "</table>\n",
       "</div>"
      ],
      "text/plain": [
       "                 Name                                        Description  \\\n",
       "0      Lenovo IdeaTab                                 7\" screen, Android   \n",
       "1         Acer Iconia                           7\" screen, Android, 16GB   \n",
       "2       Asus MeMO Pad                            7\" screen, Android, 8GB   \n",
       "3       Amazon Kindle                                    6\" screen, wifi   \n",
       "4   iPad Mini Reti...                     Wi-Fi + Cellular, 32GB, Silver   \n",
       "5      IdeaTab A3500L  Black, 7\" IPS, Quad-Core 1.2GHz, 8GB, Android 4.2   \n",
       "6          Galaxy Tab                                        16GB, White   \n",
       "7   IdeaTab A3500-...  Blue, 7\" IPS, Quad-Core 1.3GHz, 8GB, 3G, Andro...   \n",
       "8        Galaxy Tab 3                 7\", 8GB, Wi-Fi, Android 4.2, White   \n",
       "9         Galaxy Note              12.2\", 32GB, WiFi, Android 4.4, White   \n",
       "10         MeMO Pad 7           White, 7\", Atom 1.2GHz, 8GB, Android 4.4   \n",
       "11       Galaxy Tab 4        LTE (SM-T235), Quad-Core 1.2GHz, 8GB, Black   \n",
       "12       Galaxy Tab 3                7\", 8GB, Wi-Fi, Android 4.2, Yellow   \n",
       "13      Memo Pad HD 7            IPS, Dual-Core 1.2GHz, 8GB, Android 4.3   \n",
       "14  Galaxy Note 10...                                 10.1\", 32GB, Black   \n",
       "15  MeMo PAD FHD 1...   White, 10.1\" IPS, 1.6GHz, 2GB, 16GB, Android 4.2   \n",
       "16      IdeaTab S5000  Silver, 7\" IPS, Quad-Core 1.2Ghz, 16GB, 3G, An...   \n",
       "17  Iconia B1-730H...      Black, 7\", 1.6GHz Dual-Core, 8GB, Android 4.4   \n",
       "18      IdeaTab A8-50  Blue, 8\" IPS, Quad-Core 1.3GHz, 16GB, Android 4.2   \n",
       "19        Galaxy Note                 10.1\", 3G, Android 4.0, Garnet Red   \n",
       "20     Apple iPad Air                                Wi-Fi, 64GB, Silver   \n",
       "\n",
       "     Price  Rating  \n",
       "0    69.99       3  \n",
       "1    96.99       1  \n",
       "2   102.99       4  \n",
       "3   103.99       4  \n",
       "4   537.99       2  \n",
       "5    88.99       4  \n",
       "6   251.99       3  \n",
       "7   148.99       2  \n",
       "8    97.99       2  \n",
       "9   489.99       3  \n",
       "10  130.99       1  \n",
       "11  233.99       4  \n",
       "12  107.99       2  \n",
       "13  101.99       2  \n",
       "14  587.99       2  \n",
       "15  320.99       2  \n",
       "16  172.99       3  \n",
       "17   99.99       3  \n",
       "18  121.99       2  \n",
       "19  399.99       4  \n",
       "20  603.99       3  "
      ]
     },
     "execution_count": 60,
     "metadata": {},
     "output_type": "execute_result"
    }
   ],
   "source": [
    "df_tablets"
   ]
  },
  {
   "cell_type": "markdown",
   "metadata": {},
   "source": [
    "### Export des données au format csv"
   ]
  },
  {
   "cell_type": "code",
   "execution_count": 61,
   "metadata": {},
   "outputs": [],
   "source": [
    "df_tablets.to_csv(\"./output/TABLETS/tablets_data.csv\", sep=\";\", index=False)"
   ]
  },
  {
   "cell_type": "markdown",
   "metadata": {},
   "source": [
    "### Analyse"
   ]
  },
  {
   "cell_type": "markdown",
   "metadata": {},
   "source": [
    "Les 3 tablettes les mieux notés."
   ]
  },
  {
   "cell_type": "code",
   "execution_count": 62,
   "metadata": {},
   "outputs": [
    {
     "data": {
      "text/html": [
       "<div>\n",
       "<style scoped>\n",
       "    .dataframe tbody tr th:only-of-type {\n",
       "        vertical-align: middle;\n",
       "    }\n",
       "\n",
       "    .dataframe tbody tr th {\n",
       "        vertical-align: top;\n",
       "    }\n",
       "\n",
       "    .dataframe thead th {\n",
       "        text-align: right;\n",
       "    }\n",
       "</style>\n",
       "<table border=\"1\" class=\"dataframe\">\n",
       "  <thead>\n",
       "    <tr style=\"text-align: right;\">\n",
       "      <th></th>\n",
       "      <th>Name</th>\n",
       "      <th>Description</th>\n",
       "      <th>Price</th>\n",
       "      <th>Rating</th>\n",
       "    </tr>\n",
       "  </thead>\n",
       "  <tbody>\n",
       "    <tr>\n",
       "      <th>2</th>\n",
       "      <td>Asus MeMO Pad</td>\n",
       "      <td>7\" screen, Android, 8GB</td>\n",
       "      <td>102.99</td>\n",
       "      <td>4</td>\n",
       "    </tr>\n",
       "    <tr>\n",
       "      <th>3</th>\n",
       "      <td>Amazon Kindle</td>\n",
       "      <td>6\" screen, wifi</td>\n",
       "      <td>103.99</td>\n",
       "      <td>4</td>\n",
       "    </tr>\n",
       "    <tr>\n",
       "      <th>5</th>\n",
       "      <td>IdeaTab A3500L</td>\n",
       "      <td>Black, 7\" IPS, Quad-Core 1.2GHz, 8GB, Android 4.2</td>\n",
       "      <td>88.99</td>\n",
       "      <td>4</td>\n",
       "    </tr>\n",
       "  </tbody>\n",
       "</table>\n",
       "</div>"
      ],
      "text/plain": [
       "             Name                                        Description   Price  \\\n",
       "2   Asus MeMO Pad                            7\" screen, Android, 8GB  102.99   \n",
       "3   Amazon Kindle                                    6\" screen, wifi  103.99   \n",
       "5  IdeaTab A3500L  Black, 7\" IPS, Quad-Core 1.2GHz, 8GB, Android 4.2   88.99   \n",
       "\n",
       "   Rating  \n",
       "2       4  \n",
       "3       4  \n",
       "5       4  "
      ]
     },
     "execution_count": 62,
     "metadata": {},
     "output_type": "execute_result"
    }
   ],
   "source": [
    "top_rated = df_tablets.nlargest(3, \"Rating\")\n",
    "top_rated"
   ]
  },
  {
   "cell_type": "markdown",
   "metadata": {},
   "source": [
    "Les 3 tablettes les moins bien notés."
   ]
  },
  {
   "cell_type": "code",
   "execution_count": 63,
   "metadata": {},
   "outputs": [
    {
     "data": {
      "text/html": [
       "<div>\n",
       "<style scoped>\n",
       "    .dataframe tbody tr th:only-of-type {\n",
       "        vertical-align: middle;\n",
       "    }\n",
       "\n",
       "    .dataframe tbody tr th {\n",
       "        vertical-align: top;\n",
       "    }\n",
       "\n",
       "    .dataframe thead th {\n",
       "        text-align: right;\n",
       "    }\n",
       "</style>\n",
       "<table border=\"1\" class=\"dataframe\">\n",
       "  <thead>\n",
       "    <tr style=\"text-align: right;\">\n",
       "      <th></th>\n",
       "      <th>Name</th>\n",
       "      <th>Description</th>\n",
       "      <th>Price</th>\n",
       "      <th>Rating</th>\n",
       "    </tr>\n",
       "  </thead>\n",
       "  <tbody>\n",
       "    <tr>\n",
       "      <th>1</th>\n",
       "      <td>Acer Iconia</td>\n",
       "      <td>7\" screen, Android, 16GB</td>\n",
       "      <td>96.99</td>\n",
       "      <td>1</td>\n",
       "    </tr>\n",
       "    <tr>\n",
       "      <th>10</th>\n",
       "      <td>MeMO Pad 7</td>\n",
       "      <td>White, 7\", Atom 1.2GHz, 8GB, Android 4.4</td>\n",
       "      <td>130.99</td>\n",
       "      <td>1</td>\n",
       "    </tr>\n",
       "    <tr>\n",
       "      <th>4</th>\n",
       "      <td>iPad Mini Reti...</td>\n",
       "      <td>Wi-Fi + Cellular, 32GB, Silver</td>\n",
       "      <td>537.99</td>\n",
       "      <td>2</td>\n",
       "    </tr>\n",
       "  </tbody>\n",
       "</table>\n",
       "</div>"
      ],
      "text/plain": [
       "                 Name                               Description   Price  \\\n",
       "1         Acer Iconia                  7\" screen, Android, 16GB   96.99   \n",
       "10         MeMO Pad 7  White, 7\", Atom 1.2GHz, 8GB, Android 4.4  130.99   \n",
       "4   iPad Mini Reti...            Wi-Fi + Cellular, 32GB, Silver  537.99   \n",
       "\n",
       "    Rating  \n",
       "1        1  \n",
       "10       1  \n",
       "4        2  "
      ]
     },
     "execution_count": 63,
     "metadata": {},
     "output_type": "execute_result"
    }
   ],
   "source": [
    "lowest_rated = df_tablets.nsmallest(3, \"Rating\")\n",
    "lowest_rated"
   ]
  },
  {
   "cell_type": "markdown",
   "metadata": {},
   "source": [
    "Les 3 tablettes les plus chers."
   ]
  },
  {
   "cell_type": "code",
   "execution_count": 64,
   "metadata": {},
   "outputs": [
    {
     "data": {
      "text/html": [
       "<div>\n",
       "<style scoped>\n",
       "    .dataframe tbody tr th:only-of-type {\n",
       "        vertical-align: middle;\n",
       "    }\n",
       "\n",
       "    .dataframe tbody tr th {\n",
       "        vertical-align: top;\n",
       "    }\n",
       "\n",
       "    .dataframe thead th {\n",
       "        text-align: right;\n",
       "    }\n",
       "</style>\n",
       "<table border=\"1\" class=\"dataframe\">\n",
       "  <thead>\n",
       "    <tr style=\"text-align: right;\">\n",
       "      <th></th>\n",
       "      <th>Name</th>\n",
       "      <th>Description</th>\n",
       "      <th>Price</th>\n",
       "      <th>Rating</th>\n",
       "    </tr>\n",
       "  </thead>\n",
       "  <tbody>\n",
       "    <tr>\n",
       "      <th>20</th>\n",
       "      <td>Apple iPad Air</td>\n",
       "      <td>Wi-Fi, 64GB, Silver</td>\n",
       "      <td>603.99</td>\n",
       "      <td>3</td>\n",
       "    </tr>\n",
       "    <tr>\n",
       "      <th>14</th>\n",
       "      <td>Galaxy Note 10...</td>\n",
       "      <td>10.1\", 32GB, Black</td>\n",
       "      <td>587.99</td>\n",
       "      <td>2</td>\n",
       "    </tr>\n",
       "    <tr>\n",
       "      <th>4</th>\n",
       "      <td>iPad Mini Reti...</td>\n",
       "      <td>Wi-Fi + Cellular, 32GB, Silver</td>\n",
       "      <td>537.99</td>\n",
       "      <td>2</td>\n",
       "    </tr>\n",
       "  </tbody>\n",
       "</table>\n",
       "</div>"
      ],
      "text/plain": [
       "                 Name                     Description   Price  Rating\n",
       "20     Apple iPad Air             Wi-Fi, 64GB, Silver  603.99       3\n",
       "14  Galaxy Note 10...              10.1\", 32GB, Black  587.99       2\n",
       "4   iPad Mini Reti...  Wi-Fi + Cellular, 32GB, Silver  537.99       2"
      ]
     },
     "execution_count": 64,
     "metadata": {},
     "output_type": "execute_result"
    }
   ],
   "source": [
    "most_expensive = df_tablets.nlargest(3, \"Price\")\n",
    "most_expensive"
   ]
  },
  {
   "cell_type": "markdown",
   "metadata": {},
   "source": [
    "Les 3 tablettes les moins chers."
   ]
  },
  {
   "cell_type": "code",
   "execution_count": 65,
   "metadata": {},
   "outputs": [
    {
     "data": {
      "text/html": [
       "<div>\n",
       "<style scoped>\n",
       "    .dataframe tbody tr th:only-of-type {\n",
       "        vertical-align: middle;\n",
       "    }\n",
       "\n",
       "    .dataframe tbody tr th {\n",
       "        vertical-align: top;\n",
       "    }\n",
       "\n",
       "    .dataframe thead th {\n",
       "        text-align: right;\n",
       "    }\n",
       "</style>\n",
       "<table border=\"1\" class=\"dataframe\">\n",
       "  <thead>\n",
       "    <tr style=\"text-align: right;\">\n",
       "      <th></th>\n",
       "      <th>Name</th>\n",
       "      <th>Description</th>\n",
       "      <th>Price</th>\n",
       "      <th>Rating</th>\n",
       "    </tr>\n",
       "  </thead>\n",
       "  <tbody>\n",
       "    <tr>\n",
       "      <th>0</th>\n",
       "      <td>Lenovo IdeaTab</td>\n",
       "      <td>7\" screen, Android</td>\n",
       "      <td>69.99</td>\n",
       "      <td>3</td>\n",
       "    </tr>\n",
       "    <tr>\n",
       "      <th>5</th>\n",
       "      <td>IdeaTab A3500L</td>\n",
       "      <td>Black, 7\" IPS, Quad-Core 1.2GHz, 8GB, Android 4.2</td>\n",
       "      <td>88.99</td>\n",
       "      <td>4</td>\n",
       "    </tr>\n",
       "    <tr>\n",
       "      <th>1</th>\n",
       "      <td>Acer Iconia</td>\n",
       "      <td>7\" screen, Android, 16GB</td>\n",
       "      <td>96.99</td>\n",
       "      <td>1</td>\n",
       "    </tr>\n",
       "  </tbody>\n",
       "</table>\n",
       "</div>"
      ],
      "text/plain": [
       "             Name                                        Description  Price  \\\n",
       "0  Lenovo IdeaTab                                 7\" screen, Android  69.99   \n",
       "5  IdeaTab A3500L  Black, 7\" IPS, Quad-Core 1.2GHz, 8GB, Android 4.2  88.99   \n",
       "1     Acer Iconia                           7\" screen, Android, 16GB  96.99   \n",
       "\n",
       "   Rating  \n",
       "0       3  \n",
       "5       4  \n",
       "1       1  "
      ]
     },
     "execution_count": 65,
     "metadata": {},
     "output_type": "execute_result"
    }
   ],
   "source": [
    "least_expensive = df_tablets.nsmallest(3, \"Price\")\n",
    "least_expensive"
   ]
  }
 ],
 "metadata": {
  "kernelspec": {
   "display_name": "Python 3",
   "language": "python",
   "name": "python3"
  },
  "language_info": {
   "codemirror_mode": {
    "name": "ipython",
    "version": 3
   },
   "file_extension": ".py",
   "mimetype": "text/x-python",
   "name": "python",
   "nbconvert_exporter": "python",
   "pygments_lexer": "ipython3",
   "version": "3.11.9"
  },
  "toc": {
   "base_numbering": 1,
   "nav_menu": {},
   "number_sections": true,
   "sideBar": true,
   "skip_h1_title": true,
   "title_cell": "Table of Contents",
   "title_sidebar": "Contents",
   "toc_cell": false,
   "toc_position": {},
   "toc_section_display": true,
   "toc_window_display": true
  }
 },
 "nbformat": 4,
 "nbformat_minor": 2
}
